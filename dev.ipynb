{
 "metadata": {
  "language_info": {
   "codemirror_mode": {
    "name": "ipython",
    "version": 3
   },
   "file_extension": ".py",
   "mimetype": "text/x-python",
   "name": "python",
   "nbconvert_exporter": "python",
   "pygments_lexer": "ipython3",
   "version": "3.8.5-final"
  },
  "orig_nbformat": 2,
  "kernelspec": {
   "name": "python38564bitenvvenvdbf6a1c2c2774751a421a798c49305e7",
   "display_name": "Python 3.8.5 64-bit ('env': venv)"
  }
 },
 "nbformat": 4,
 "nbformat_minor": 2,
 "cells": [
  {
   "cell_type": "code",
   "execution_count": 135,
   "metadata": {},
   "outputs": [],
   "source": [
    "import json\n",
    "import re\n",
    "args = '{\"table1.a\":\"table2.b@latest\", \"table1.c\":\"table2.d@latest\"}'"
   ]
  },
  {
   "cell_type": "code",
   "execution_count": 136,
   "metadata": {
    "tags": []
   },
   "outputs": [
    {
     "output_type": "stream",
     "name": "stdout",
     "text": "failed: some_test\nfailed: some_test.\nok    : some_test.some_field \t\t {'table': 'some_test', 'field': 'some_field', 'when': None}\nfailed: some_test.some_field@\nfailed: some_test.some_field@peter\nok    : some_test.some_field@latest \t\t {'table': 'some_test', 'field': 'some_field', 'when': 'latest'}\nfailed: some_test.some_field@-10\n"
    }
   ],
   "source": [
    "exp = r\"(?P<table>\\w+)\\.(?P<field>\\w+)((\\@(?P<when>(latest|\\d+))|$)|$)\"\n",
    "pattern = re.compile(exp, re.MULTILINE)\n",
    "\n",
    "jj = {}\n",
    "jj[\"some_test\"] = \"another.field\"\n",
    "jj[\"some_test.\"] = \"another.field\"\n",
    "jj[\"some_test.some_field\"] = \"another.field\"\n",
    "jj[\"some_test.some_field@\"] = \"another.field\"\n",
    "jj[\"some_test.some_field@peter\"] = \"another.field\"\n",
    "jj[\"some_test.some_field@latest\"] = \"another.field\"\n",
    "jj[\"some_test.some_field@-10\"] = \"another.field\"\n",
    "\n",
    "\n",
    "for k, v in jj.items():\n",
    "    m = pattern.match(k)\n",
    "    if (m):\n",
    "        print(f\"ok    : {k} \\t\\t {m.groupdict()}\")\n",
    "    else:\n",
    "        print(f\"failed: {k}\")\n"
   ]
  },
  {
   "cell_type": "code",
   "execution_count": 178,
   "metadata": {
    "tags": []
   },
   "outputs": [
    {
     "output_type": "stream",
     "name": "stdout",
     "text": "(True, {'table1.a': ('table2.b', 'latest'), 'table1.c': ('table2.d', 'latest'), 'invalid.field': ('valid.field', None)})\n"
    }
   ],
   "source": [
    "pattern_left = re.compile(r\"^(?P<this>\\w+\\.\\w+)$\")\n",
    "pattern_right= re.compile(r\"^(?P<that>\\w+\\.\\w+)($|(\\@(?P<at>(latest|this|\\d+)$)|$))\", re.MULTILINE)\n",
    "\n",
    "jj = json.loads(args)\n",
    "jj[\"invalid.field\"] = \"valid.field\"\n",
    "def validate_dict(d):\n",
    "    res = {}\n",
    "    for k, v in jj.items():        \n",
    "        m1 = pattern_left.match(k)\n",
    "        m2 = pattern_right.match(v)\n",
    "        if m1 and m2:\n",
    "            res[k] = (m2.group(\"that\"), m2.group(\"at\"))\n",
    "        else:            \n",
    "            blame = f\"Key Error: {k}\" if not m1 else f\"Value Error: {v}\"\n",
    "            return False, blame\n",
    "    return True, res\n",
    "\n",
    "res = validate_dict(jj)\n",
    "print(res)"
   ]
  },
  {
   "cell_type": "code",
   "execution_count": null,
   "metadata": {},
   "outputs": [],
   "source": [
    "\n",
    "tbl1 = {\"1\": [\n",
    "    {\"action\": \"insert\", \"timestamp\": \"100\", \"params\": {\"a\": 1, \"b\": 1}},\n",
    "    {\"action\": \"update\", \"timestamp\": \"200\", \"params\": {\"a\": 2, \"b\": 2}},\n",
    "    {\"action\": \"update\", \"timestamp\": \"300\", \"params\": {\"a\": 3, \"b\": 2}},\n",
    "    {\"action\": \"delete\", \"timestamp\": \"400\", \"params\": {}}\n",
    "]}\n",
    "tbl2 = {\n",
    "\n",
    "}\n",
    "rel = {'id': 1, 'l': 1, 'r': 1}\n"
   ]
  }
 ]
}